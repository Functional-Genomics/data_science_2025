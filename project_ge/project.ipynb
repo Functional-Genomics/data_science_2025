{
 "cells": [
  {
   "cell_type": "markdown",
   "id": "9ff9c1fd-a5b2-4836-a7c6-13d78b7da095",
   "metadata": {},
   "source": [
    "# Single-Cell RNAseq Analysis: Preprocessing and Cell Type Clustering"
   ]
  },
  {
   "cell_type": "markdown",
   "id": "8048c7b8",
   "metadata": {},
   "source": [
    "In this project you will acquire hands-on experience analysing real-world single-nucleus RNA sequencing (snRNA-seq) data. The goal of this introductory exercise is to get familiarity with Python syntax, data types and structures, and grow your practical skills in large-scale data manipulation and visualisation through an analysis of cell clustering. From an applied standpoint, you’ll be introduced to powerful Python packages commonly used in the analysis of single-cell gene expression data.\n",
    "\n",
    "__Workflow__\n",
    "\n",
    "This notebook will guide you through the basic analysis steps required to conduct cell-type clustering of snRNA-seq data. A step-by-step outline is provided below.\n",
    "\n",
    "_Data reading and exploration_ \n",
    "This notebook starts from a preprocessed AnnData object containing raw expression counts for 38,917 genes across 7,140 cells derived from the kidney of a healthy male. Gene-level and cell(barcode)-level metadata are also stored in this object. The initial step is to locate, read, and explore the data. \n",
    "\n",
    "_Filtering of genes and barcodes_  \n",
    "An essential processing step is the identification and filtering of zero- and lowly-expressed genes, which don’t add much to the transcriptomic heterogeneity of the cells, which we often aim to study.  Equally important is the detection of barcodes with outlier quality-control (QC) metrics, representing either poor-quality cells, empty droplets, or droplets with more than one cell/nucleus; followed by analytical decisions to exclude or retain such barcodes for downstream analysis.  \n",
    "\n",
    "_Normalisation of gene expression data_  \n",
    "In this step, raw read counts are adjusted for differences in sequencing depth across cells, enabling the comparison of expression levels between them. Counts are also transformed into a more interpretable scale with convenient statistical properties for downstream applications. Common methods include library size normalisation followed by log transformation.\n",
    "\n",
    "_Dimensionality reduction_  \n",
    "We perform Principal Component Analysis (PCA) on the data, which is a common first step to linearly reduce the dimensionality of normalised data.\n",
    "\n",
    "_Cell clustering_  \n",
    "Unsupervised cell clustering aims to group the data (cells) based on their transcriptomic similarities in a reduced space. This is done using algorithms such as K-means and Leiden.  Non-linear dimensionality reduction techniques such as UMAP (Uniform Manifold Approximation and Projection) or t-SNE (t-distributed Stochastic Neighbor Embedding) are used for visualising the resulting cell clusters and cell type marker expression.\n",
    "\n",
    "\n",
    "__What you need__  \n",
    "You are expected to have at least basic Python knowledge, specifically in data handling and visualisation, a basic understanding of molecular cell biology and genomics.\n",
    "\n",
    "__What is not required__  \n",
    "Despite the nature of the analysis, you do not need a background in single-cell/nucleus RNAseq to be able to perform this project, nor a deep understanding of the mathematical theory behind dimensionality reduction and clustering. \n",
    "\n",
    "__Instructions__  \n",
    "Work through this notebook from top to bottom, executing coding cells sequentially.  Answer __Questions__ and perform __Tasks__ you see along the way.  You are expected to write and demonstrate your answers by adding cells of text or code, where appropriate. \n",
    "\n",
    "__Authors__  \n",
    "Iris Diana Yu, EMBL-EBI  \n",
    "Daianna Gonzalez Padilla, Wellcome Sanger Institute\n"
   ]
  },
  {
   "cell_type": "markdown",
   "id": "a38516cc-4f71-4ea2-bd58-c5ea2169f2ad",
   "metadata": {},
   "source": [
    "## Table of contents  \n",
    "1. [Background](#background)\n",
    "2. [Reading data](#reading_data)\n",
    "3. [Gene annotation](#gene_annotation)\n",
    "4. [Filtering](#filtering)  \n",
    "    4.1 [Filtering barcodes](#filtering_barcodes)  \n",
    "    4.2 [Filtering genes](#filtering_genes)  \n",
    "    4.3 [Doublet removal](#doublet_removal)  \n",
    "5. [Normalisation](#normalisation)"
   ]
  },
  {
   "cell_type": "markdown",
   "id": "2bfa3662-5b06-4bb4-ae5f-9fa42348d77b",
   "metadata": {},
   "source": [
    "## 1. Background"
   ]
  },
  {
   "cell_type": "markdown",
   "id": "872da00d-6972-44bc-baa9-6c5aff81e8bc",
   "metadata": {},
   "source": [
    "### Data"
   ]
  },
  {
   "cell_type": "markdown",
   "id": "7f5f432c-f999-476d-b628-6ee4a3e64977",
   "metadata": {},
   "source": [
    "The data analysed in this notebook were generated in [Muto et al. (Nature Communications, 2021)](https://www.nature.com/articles/s41467-021-22368-w) and retrieved from the Single Cell Expression Atlas, accession [E-CURD-119](https://www.ebi.ac.uk/gxa/sc/experiments/E-CURD-119/results/cell-plots), [downloaded here](https://www.ebi.ac.uk/gxa/sc/experiments/E-CURD-119/downloads). In the study, the cellular diversity of the adult human kidney was thoroughly characterized through single-cell transcriptome and chromatin accessibility profiling, analysing kidney samples from five healthy adults.  \n",
    "\n",
    "\n",
    "In this project, we will only analyse the single-cell transcriptomics data for one sample corresponding to a healthy 54-year old male known as `Healthy1`.  \n",
    "\n",
    "We start with the partially filtered sampled data set contained in an AnnData `.h5ad` file."
   ]
  },
  {
   "cell_type": "markdown",
   "id": "941787b7-2077-4485-815d-d4861d94e1eb",
   "metadata": {},
   "source": [
    "### Setting up"
   ]
  },
  {
   "cell_type": "code",
   "execution_count": null,
   "id": "68b4f8e7-b046-42f9-bf1e-1fa15a29eaf7",
   "metadata": {},
   "outputs": [],
   "source": [
    "import pandas as pd\n",
    "import scanpy as sc\n",
    "import seaborn as sns\n",
    "\n",
    "# set plotting theme\n",
    "sns.set_theme()"
   ]
  },
  {
   "cell_type": "markdown",
   "id": "74755de3-295b-410c-9872-0f85d55fe672",
   "metadata": {},
   "source": [
    "<a id=\"reading_data\"></a>\n",
    "## 2. Reading data"
   ]
  },
  {
   "cell_type": "markdown",
   "id": "ac9d4b17-d7b1-419b-b37a-d68ff90b12b2",
   "metadata": {},
   "source": [
    "We start by reading the data using one of the read functions from `scanpy` ([documented here](https://scanpy.readthedocs.io/en/stable/api/reading.html))."
   ]
  },
  {
   "cell_type": "code",
   "execution_count": null,
   "id": "cd598ffc-5bbf-45b1-aac9-903bb00e8881",
   "metadata": {},
   "outputs": [],
   "source": [
    "adata = sc.read(\"project_data.h5ad\")\n",
    "adata"
   ]
  },
  {
   "cell_type": "markdown",
   "id": "114e5a0f-de2b-49db-a157-a06b9f4b9117",
   "metadata": {},
   "source": [
    "This AnnData object stores several pieces of information, including: \n",
    "\n",
    "- A matrix of counts, with samples as rows and genes as columns. This can be retrived with the `.X` accessor.\n",
    "- Metadata about the barcodes (cells), which can be retrieved using the `.obs` accessor. \n",
    "- Metadata about the genes, which can be retrived using the `.var` accessor.\n",
    "\n",
    "In the output above, the top line `AnnData object with n_obs × n_vars = 7140 × 38917` tells us the shape of the data set.  The `n_obs` is the number of observations in `.obs`--in this case, the sequencing barcodes, which we can more or less think of as equivalent to cells.  The `n_vars` is the number of variables in `.vars`, which in our case are genes. \n",
    "\n",
    "![Diagram of the AnnData object type. [Source](https://scanpy.readthedocs.io/en/stable/usage-principles.html)](https://falexwolf.de/img/scanpy/anndata.svg)\n"
   ]
  },
  {
   "cell_type": "markdown",
   "id": "498417bb-a3f5-4f09-b3c7-c3003589156e",
   "metadata": {},
   "source": [
    "### Question\n",
    "What data types are `adata.X`, `adata.obs`, and `adata.var` respectively?"
   ]
  },
  {
   "cell_type": "markdown",
   "id": "3de17654-4846-4efb-937a-808edb9d5899",
   "metadata": {},
   "source": [
    "<a id=\"gene_annotation\"></a>\n",
    "## 3. Gene Annotation"
   ]
  },
  {
   "cell_type": "markdown",
   "id": "c8f2fbfc-6730-43cd-9b14-8caafb8fd95b",
   "metadata": {},
   "source": [
    "Let's inspect `adata.var`, where the gene metadata are stored."
   ]
  },
  {
   "cell_type": "code",
   "execution_count": null,
   "id": "5d73de2a-3054-4407-9cf5-75fb909d0cd5",
   "metadata": {},
   "outputs": [],
   "source": [
    "adata.var"
   ]
  },
  {
   "cell_type": "markdown",
   "id": "03ba0334-a730-4925-a7cb-b7010e09186b",
   "metadata": {},
   "source": [
    "Above we see that `adata.var` is indexed with the human ENSEMBL gene IDs.  The human gene IDs can be explored [here](https://www.ensembl.org/Homo_sapiens/Info/Index).  The common gene name equivalent of these gene IDs are stored in `adata.var[\"gene_name\"]`."
   ]
  },
  {
   "cell_type": "markdown",
   "id": "6b111244-e4a2-41ef-9312-bb3ed8df306f",
   "metadata": {},
   "source": [
    "### Questions\n",
    "1. What kind of information do you think are stored in the `adata.var` columns, namely the \"gene_symbols\", \"chromosome\", and \"mito\" columns?\n",
    "2. What values are stored in the `adata.var` column \"mito\"? How many unique values are there?\n",
    "3. What values are stored in the `adata.var` column \"chromomosome\". How many unique values are there?\n",
    "4. What is the relationship of values between `adata.var` columns \"mito\" and \"chromosome\"?\n",
    "5. Upon inspecting the `adata.var` column \"chromosome\", do you notice anything unusual?"
   ]
  },
  {
   "cell_type": "markdown",
   "id": "2201ee8e-6aa4-4081-9796-b69da8b48cad",
   "metadata": {},
   "source": [
    "We would like to keep only genes in the autosomes (1 through 23), X, Y and MT chromosome (i.e., remove genes in unassembled scaffolds).  Below is how we perform it."
   ]
  },
  {
   "cell_type": "code",
   "execution_count": null,
   "id": "f3c1d699-4533-49dd-92a7-afa46aaf2282",
   "metadata": {},
   "outputs": [],
   "source": [
    "vars_to_keep = (\n",
    "  adata.var[\"chromosome\"]\n",
    "  .isin([str(i) for i in range(1, 23)] + [\"X\", \"Y\", \"MT\"])\n",
    ")\n",
    "adata = adata[:, vars_to_keep].copy()\n",
    "adata"
   ]
  },
  {
   "cell_type": "markdown",
   "id": "4357e025-0677-40ad-9a86-5f67cfa875e6",
   "metadata": {},
   "source": [
    "Note the use of the `.copy()` method. This ensures that we make a new copy of the object (which we replace back into `adata`), rather than a \"View\" of the original object."
   ]
  },
  {
   "cell_type": "markdown",
   "id": "eac252bc-c9ef-4620-99ad-3ca419ac68a7",
   "metadata": {},
   "source": [
    "### Questions\n",
    "1. Explain each line of code in the cell that modifies `adata` to retain genes mapping to valid chromosomes. \n",
    "2. How many genes do we now have in our data, after retaininig only genes in valid chromosomes?"
   ]
  },
  {
   "cell_type": "markdown",
   "id": "a0a085e5-8f97-477d-bcf4-fb52afa9b2ef",
   "metadata": {},
   "source": [
    "<a id=\"filtering\"></a>\n",
    "## 4. Filtering"
   ]
  },
  {
   "cell_type": "markdown",
   "id": "a8efdde9-8874-41fd-9120-73821d31fece",
   "metadata": {},
   "source": [
    "We start by doing some exploratory analysis of our count data, namely in terms of:  \n",
    "\n",
    "- number of total counts per barcode  \n",
    "- number of detected genes per barcode  \n",
    "- fraction of counts in mitochondrial genes\n",
    "\n",
    "We use the function `scanpy.pp.calculate_qc_metrics`.  You can read more about the function [in the scanpy documentation](https://scanpy.readthedocs.io/en/stable/generated/scanpy.pp.calculate_qc_metrics.html)."
   ]
  },
  {
   "cell_type": "code",
   "execution_count": null,
   "id": "6eb16c11-3d37-4a7f-8426-e39ef8d4f711",
   "metadata": {},
   "outputs": [],
   "source": [
    "sc.pp.calculate_qc_metrics(\n",
    "    adata, \n",
    "    qc_vars=[\"mito\"], \n",
    "    inplace=True, \n",
    "    percent_top=[20], \n",
    "    log1p=True\n",
    ")\n",
    "adata"
   ]
  },
  {
   "cell_type": "markdown",
   "id": "3239e2f9-a429-461c-9b27-5bbead19d57d",
   "metadata": {},
   "source": [
    "### Questions  \n",
    "1. Explain each parameter that we supplied to `sc.pp.calculate_qc_metrics`.\n",
    "2. The execution of the function added several metrics to our barcode/cell metadata, i.e. our `adata.obs`.  What are these new metrics?  Explain each.\n",
    "3. Some metrics were also added to the gene metadata, `adata.var`.  What are these new metrics? Explain each."
   ]
  },
  {
   "cell_type": "markdown",
   "id": "0e0b3b34-f5c4-464e-82ed-98073b38501b",
   "metadata": {},
   "source": [
    "<a id=\"filtering_barcodes\"></a>\n",
    "### 4.1 Filtering barcodes"
   ]
  },
  {
   "cell_type": "markdown",
   "id": "a917cb10-a51f-48a2-9989-55ab39e6e8ae",
   "metadata": {},
   "source": [
    "Since `adata.obs` is a regular Pandas DataFrame, we can use standard plotting libraries to visualise some of the statistics that the previous function calculated for us.  "
   ]
  },
  {
   "cell_type": "markdown",
   "id": "fdea25f0-671b-4393-b1e3-87018ca027ac",
   "metadata": {},
   "source": [
    "### Task  \n",
    "Using Seaborn, generate the following:\n",
    "1. A plot showing the distribution of total UMI counts per cell. Use 20 bins.\n",
    "2. A plot showing the distribution of percent mitochondrial UMIs per cell. Use 20 bins.\n",
    "3. A plot showing the relationship between the total UMI counts per cell and the number of genes with at least 1 count in a cell.  Color the data points based on the percent of mitochondrial UMIs per cell.  "
   ]
  },
  {
   "cell_type": "markdown",
   "id": "7ed33e9f-466c-45ff-a567-da8a3ddc61fb",
   "metadata": {},
   "source": [
    "### Question  \n",
    "Based on each plot, what can you say about the data?"
   ]
  },
  {
   "cell_type": "markdown",
   "id": "c068c5ac-3d42-45a3-9e05-59772efb7670",
   "metadata": {},
   "source": [
    "Alternatively, we can use `scanpy`'s own plotting functions (histogram is not available, but we can do violin plots instead):  "
   ]
  },
  {
   "cell_type": "code",
   "execution_count": null,
   "id": "73cf5b3e-abaf-49fe-b559-003e840fc72e",
   "metadata": {},
   "outputs": [],
   "source": [
    "sc.pl.violin(adata, \"total_counts\")\n",
    "sc.pl.violin(adata, \"pct_counts_mito\")\n",
    "sc.pl.scatter(adata, \"total_counts\", \"n_genes_by_counts\", color=\"pct_counts_mito\")"
   ]
  },
  {
   "cell_type": "markdown",
   "id": "253fe0ed-9dc3-4bcf-b6ba-346d919e0c45",
   "metadata": {},
   "source": [
    "We can filter our barcodes/cells based on hard thresholds set manually.  Alternatively, we can define a function that removes outliers based on the observed distribution.  For instance, we can use an `n` number of median absolute deviations (MAD) to determine outliers. More about MAD in [this Wikipedia entry](https://en.wikipedia.org/wiki/Median_absolute_deviation). Below, we create a MAD-based function that determines outlier observations in a given metric. It uses the `scipy.stats` function `median_abs_deviation`, with documentation [here](https://docs.scipy.org/doc/scipy/reference/generated/scipy.stats.median_abs_deviation.html)."
   ]
  },
  {
   "cell_type": "code",
   "execution_count": null,
   "id": "f78ccf1d-1cd7-4e17-b548-52ae379842b0",
   "metadata": {},
   "outputs": [],
   "source": [
    "import numpy as np\n",
    "from scipy.stats import median_abs_deviation\n",
    "\n",
    "def is_outlier(adata, metric: str, nmads: int):\n",
    "  M = adata.obs[metric]\n",
    "  \n",
    "  outlier = (M < np.median(M) - nmads * median_abs_deviation(M)) | (\n",
    "      np.median(M) + nmads * median_abs_deviation(M) < M\n",
    "  )\n",
    "  return outlier"
   ]
  },
  {
   "cell_type": "markdown",
   "id": "156fee35-84e8-4bd5-9903-8a96a2499ae9",
   "metadata": {},
   "source": [
    "### Questions  \n",
    "Explain the function `is_outlier`.  \n",
    "1. What are the inputs and what is their role in the function?\n",
    "2. What kind of data is passed onto the variable `outlier`?\n",
    "3. Explain the expression used to derive `outlier`."
   ]
  },
  {
   "cell_type": "markdown",
   "id": "de8a1d95-379c-44fc-a36f-2a289fa5b09a",
   "metadata": {},
   "source": [
    "### Tasks  \n",
    "1. Use the function `is_outlier` to create new barcode metadata columns indicating counts outliers.  Use `nmads = 5`.  Do this for each of the following:\n",
    "    1. For raw counts outliers, use `counts_outlier` as the new metadata name. Determine outliers using `log1p_total_counts`.\n",
    "    2. For gene counts outliers, use `genes_outlier` as the new metadata name.  Determine outliers using `log1p_n_genes_by_counts`.\n",
    "    3. For top genes outliers, use `topgenes_outlier` as the new metadata name.  Determine outliers using `pct_counts_in_top_20_genes`.  \n",
    "\n",
    "2. Create a histogram for each of the chosen metrics above, and color the histogram by based on outliers.  Hint: `sns.displot(adata.obs, x=\"metric_col_name\", hue=\"outlier_col_name\", multiple=\"stack\")`.  \n",
    "\n",
    "Note that we choose to use the log-transformed counts, as its distribution should be less skewed and therefore more suitable for MAD-based filtering.  "
   ]
  },
  {
   "cell_type": "markdown",
   "id": "4108d607-fa5d-4896-aa82-d3336425e7a9",
   "metadata": {},
   "source": [
    "We also check for outliers with regards to percentage of mitochondrial counts, where we use more strict filters: "
   ]
  },
  {
   "cell_type": "code",
   "execution_count": null,
   "id": "a4ba9c97-e0ad-407d-8d89-6547b6545a9f",
   "metadata": {},
   "outputs": [],
   "source": [
    "adata.obs[\"mito_outlier\"] = is_outlier(adata, \"pct_counts_mito\", 3) | (adata.obs[\"pct_counts_mito\"] > 8)\n",
    "sns.displot(adata.obs, x=\"pct_counts_mito\", hue=\"mito_outlier\", multiple=\"stack\")"
   ]
  },
  {
   "cell_type": "markdown",
   "id": "98af6df0-c9fc-48ec-9212-5124c0f00e12",
   "metadata": {},
   "source": [
    "### Question  \n",
    "1. How many are considered outliers per metric filter?\n",
    "2. Discuss the data based on what each of the four plots show."
   ]
  },
  {
   "cell_type": "markdown",
   "id": "38eb9047-fd82-4221-afb3-832d852a4f0d",
   "metadata": {},
   "source": [
    "Let us now create a variable which is the union of the conditions we set for our filters.  That is, if a barcode is determined an outlier of _any_ of our filters, then we consider it to be an outlier. "
   ]
  },
  {
   "cell_type": "code",
   "execution_count": null,
   "id": "68adc53f-c32b-444f-b248-5e78a4b318ad",
   "metadata": {},
   "outputs": [],
   "source": [
    "adata.obs[\"outlier\"] = adata.obs[\"genes_outlier\"] | adata.obs[\"genes_outlier\"] | adata.obs[\"topgenes_outlier\"] | adata.obs[\"mito_outlier\"]\n",
    "adata.obs[\"outlier\"].value_counts()"
   ]
  },
  {
   "cell_type": "markdown",
   "id": "a9099a1d-2d66-4f4d-98e9-48259218efef",
   "metadata": {},
   "source": [
    "### Task  \n",
    "Create the same scatterplot of counts vs detected genes you created earlier, but color the data points according which barcodes will be removed. "
   ]
  },
  {
   "cell_type": "markdown",
   "id": "cbcb92b1-b662-4eea-a54c-1ef3f7a1ad98",
   "metadata": {},
   "source": [
    "We now remove all outliers from our data set."
   ]
  },
  {
   "cell_type": "code",
   "execution_count": null,
   "id": "e33f82bb-9f45-4f6f-98de-0ae424ac92d4",
   "metadata": {},
   "outputs": [],
   "source": [
    "adata = adata[~adata.obs[\"outlier\"], :].copy()\n",
    "adata"
   ]
  },
  {
   "cell_type": "markdown",
   "id": "e21d9049-ba70-4015-8c2a-da7c3e6bbf25",
   "metadata": {},
   "source": [
    "### Question  \n",
    "\n",
    "The barcodes we are left with after this filtering we will now consider to be cells. How many cells are we left with?"
   ]
  },
  {
   "cell_type": "markdown",
   "id": "94428987-0634-4293-8dce-00d7c374c1bd",
   "metadata": {},
   "source": [
    "<a id=\"filtering_genes\"></a>\n",
    "### 4.2 Filtering Genes"
   ]
  },
  {
   "cell_type": "markdown",
   "id": "804c98dc-7ff0-4aa0-ad39-a29d08c703cc",
   "metadata": {},
   "source": [
    "In the same way that we explored several metrics for barcodes, we can also explore them for genes. However, as we will see, downstream analysis can focus on variable genes and will mostly ignore genes for which there is very little data. Therefore, we don't perform as strict filtering on genes as we do on barcodes.    \n",
    "\n",
    "Still, it is useful to remove undetected genes, i.e. those with zero total counts:"
   ]
  },
  {
   "cell_type": "markdown",
   "id": "78ad5b6a-5dcb-45ac-936a-b52e33972bd6",
   "metadata": {},
   "source": [
    "### Task  \n",
    "Count how many genes have zero counts.  Hint: You may use the function `pd.DataFrame.eq()` function, [documentation here](https://pandas.pydata.org/docs/reference/api/pandas.DataFrame.eq.html)."
   ]
  },
  {
   "cell_type": "markdown",
   "id": "4e444e0a-4d56-4b3c-8e1e-c497d63305b6",
   "metadata": {},
   "source": [
    "There is an out-of-the box method in `scanpy` to filter genes--`sc.pp.filter_genes()`.  The document is [here](https://scanpy.readthedocs.io/en/stable/generated/scanpy.pp.filter_genes.html).  We do the filtering as below."
   ]
  },
  {
   "cell_type": "code",
   "execution_count": null,
   "id": "8ed1cd8e-7399-4a25-a257-8d97ca40e90b",
   "metadata": {},
   "outputs": [],
   "source": [
    "sc.pp.filter_genes(adata, min_counts=0)"
   ]
  },
  {
   "cell_type": "markdown",
   "id": "8fd5f63a-272b-43f6-a6c1-7d4496898d91",
   "metadata": {},
   "source": [
    "### Task  \n",
    "Check number how many genes are left after removing zero-count genes.adata.n_vars"
   ]
  },
  {
   "cell_type": "markdown",
   "id": "cb2cb275-9b40-4958-adca-ed052050b11f",
   "metadata": {},
   "source": [
    "<a id=\"doublet_removal\"></a>\n",
    "### 4.3 Doublet removal"
   ]
  },
  {
   "cell_type": "markdown",
   "id": "4440af7c",
   "metadata": {},
   "source": [
    "In this special barcode filtering step, we remove droplet barcodes that may contain more than one cell or nucleus. This is an important step because, unremoved, these droplets known as \"doublets\" can be misclassified and thus confound downstream analysis."
   ]
  },
  {
   "cell_type": "markdown",
   "id": "877cf4b8-39f8-4fed-872e-c1196613fff0",
   "metadata": {},
   "source": [
    "### Question  \n",
    "The `adata.obs` column `predicted_doublet` stores information on which cells are predicted doublets.  How many are predicted doublets and how many are not? "
   ]
  },
  {
   "cell_type": "markdown",
   "id": "4a6449d8",
   "metadata": {},
   "source": [
    "At the moment, our count matrix has the following shape."
   ]
  },
  {
   "cell_type": "code",
   "execution_count": null,
   "id": "8692a6a7-a06f-4aca-b215-eca9c9a1d5ad",
   "metadata": {},
   "outputs": [],
   "source": [
    "adata.shape"
   ]
  },
  {
   "cell_type": "markdown",
   "id": "53d147f8-5506-4e6a-ad39-ae1c8429be35",
   "metadata": {},
   "source": [
    "Below is how we would filter out predicted doublets."
   ]
  },
  {
   "cell_type": "code",
   "execution_count": null,
   "id": "c73bf616-5bd1-486c-af35-e44eaef0a522",
   "metadata": {},
   "outputs": [],
   "source": [
    "# adata = adata[~adata.obs[\"predicted_doublet\"], :].copy()"
   ]
  },
  {
   "cell_type": "markdown",
   "id": "992f0ea0-b99d-4319-bb05-ee9db49e0f66",
   "metadata": {},
   "source": [
    "<a id=\"normalisation\"></a>\n",
    "## 5. Normalisation"
   ]
  },
  {
   "cell_type": "markdown",
   "id": "04bf1dee-79cb-46a4-a674-c1e80a4efff3",
   "metadata": {},
   "source": [
    "There are several normalisation methods available for single-cell RNA-seq data. In this exercise, we will use shifted logarithm method.  This methods scales the counts by a cell-specific size factor (based on the total counts in that cell) followed by taking its logarithm. Despite being a relatively simple method, it has been shown to perform well in downstream analysis such as dimensionality reduction and clustering.  \n",
    "\n",
    "We will use the `layers` component of the AnnData object, which can be used to store different versions of our count matrix.  This is a good way to keep several versions of our data in place, especially as we explore different methods of normalisation."
   ]
  },
  {
   "cell_type": "code",
   "execution_count": null,
   "id": "f19ff127-44cd-43d6-98a3-d0139208d515",
   "metadata": {},
   "outputs": [],
   "source": [
    "from scipy.sparse import csr_matrix\n",
    "\n",
    "# keep a copy of the raw counts in the object as a backup\n",
    "adata.layers[\"counts\"] = adata.X.copy()\n",
    "\n",
    "# create new layer for log-normalised counts\n",
    "adata.layers[\"logcounts\"] = adata.X.copy()\n",
    "sc.pp.normalize_total(adata, layer=\"logcounts\", target_sum=10000)\n",
    "sc.pp.log1p(adata, layer=\"logcounts\")"
   ]
  },
  {
   "cell_type": "markdown",
   "id": "63ac9b3d-7141-43a3-81fd-0020aa82270e",
   "metadata": {},
   "source": [
    "### Question  \n",
    "1. For normalisation, what does each line of the code do?  Refer to the documentations of the functions.\n",
    "2. In what way did `adata` change after we performed normalisation?\n",
    "3. What type of variable was introduced in the layer that was created to contain logcounts?\n",
    "\n",
    "### Task  \n",
    "Visualise the normalised data."
   ]
  },
  {
   "cell_type": "markdown",
   "id": "deb4acba-182b-4ce8-9360-055fc9d58370",
   "metadata": {},
   "source": [
    "We now save our processed data."
   ]
  },
  {
   "cell_type": "code",
   "execution_count": null,
   "id": "a9afa268-237b-4ba2-a6e0-abfe9877ef54",
   "metadata": {},
   "outputs": [],
   "source": [
    "adata.write(f\"project_data_processed.h5ad\")"
   ]
  },
  {
   "cell_type": "markdown",
   "id": "b87cb060-b2a8-4ea6-aeb1-d84c2d837163",
   "metadata": {},
   "source": [
    "## We stop here for Day 1 of the Group Project "
   ]
  },
  {
   "cell_type": "markdown",
   "id": "f8bb72dd-4ffe-4099-bceb-624dfd16759a",
   "metadata": {},
   "source": [
    "## We start here again for Day 2 of the Group Project"
   ]
  },
  {
   "cell_type": "markdown",
   "id": "30b9e99c-420c-4ea7-88e0-53ab120c6c6c",
   "metadata": {},
   "source": [
    "<a id=\"dimred\"></a>\n",
    "## 6. Dimensionality reduction"
   ]
  },
  {
   "cell_type": "markdown",
   "id": "e1f58f64-1c8b-4b73-b46f-a850f8d9f437",
   "metadata": {},
   "source": [
    "<a id=\"clustering\"></a>\n",
    "## 7. Clustering"
   ]
  },
  {
   "cell_type": "code",
   "execution_count": null,
   "id": "e769289e-ab0d-4889-acb6-09cd7d06b267",
   "metadata": {},
   "outputs": [],
   "source": []
  }
 ],
 "metadata": {
  "kernelspec": {
   "display_name": "Python 3 (ipykernel)",
   "language": "python",
   "name": "python3"
  },
  "language_info": {
   "codemirror_mode": {
    "name": "ipython",
    "version": 3
   },
   "file_extension": ".py",
   "mimetype": "text/x-python",
   "name": "python",
   "nbconvert_exporter": "python",
   "pygments_lexer": "ipython3",
   "version": "3.10.10"
  }
 },
 "nbformat": 4,
 "nbformat_minor": 5
}
